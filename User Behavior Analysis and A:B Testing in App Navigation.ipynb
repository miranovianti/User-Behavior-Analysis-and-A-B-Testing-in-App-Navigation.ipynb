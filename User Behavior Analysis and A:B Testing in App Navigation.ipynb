{
 "cells": [
  {
   "cell_type": "markdown",
   "metadata": {},
   "source": [
    "# User Behavior Analysis and A/B Testing in App Navigation\n",
    "\n",
    "\n",
    "# Content\n",
    "\n",
    "1. Introduction and Objectives\n",
    "2. Steps Taken\n",
    "3. Data Processing\n",
    "4. Data Analysis\n",
    "5. Conclusion\n",
    "\n",
    "# Introduction and Objectives\n",
    "\n",
    "In a startup that sells food products, we need to analyze user behavior within the company's application. First, it is essential to study the sales funnel and identify the paths users take to reach the purchase stage. How many users successfully complete a purchase? How many drop off at earlier stages? At which exact stage does this happen?\n",
    "\n",
    "Next, we need to review the results of an A/A/B test. The web design team wants to change the font across the entire application, but the product manager is concerned that users might find the new design disruptive. To make a data-driven decision, they decided to conduct an A/A/B test.\n",
    "\n",
    "Users were divided into three groups: two control groups were shown the old font version, while one test group was shown the new font version. Our goal is to determine which font yields the best results.\n",
    "\n",
    "Having two A (control) groups provides certain advantages. We can establish a rule that the test's accuracy is only valid if both control groups produce similar results. If there is a significant difference between the two A groups, this can help identify potential factors that might distort our findings. Comparing the control groups also gives us insight into the time and data required for the subsequent testing process.\n",
    "\n",
    "# Steps Taken\n",
    "\n",
    "1. Open the Data File and Review General Information. Load the dataset and explore its general structure.\n",
    "2. Prepare the Data for Analysis\n",
    "    * Rename columns as needed.\n",
    "    * Check for missing values and data types. Clean and correct the data if necessary.\n",
    "    * Add date and time columns, along with a separate column for the date.\n",
    "3. Explore and Examine the Data\n",
    "    * Determine the total number of events recorded in the log.\n",
    "    * Count the number of unique users in the log.\n",
    "    * Calculate the average number of events per user.\n",
    "    * Identify the time period covered by the dataset by finding the minimum and maximum dates.\n",
    "    * Create a histogram based on date and time to check data completeness.\n",
    "    * Verify whether the dataset is consistent across the entire period.\n",
    "    * Identify when the data becomes complete and exclude outdated data that might distort the overall distribution.\n",
    "    * Determine the actual period represented by the data.\n",
    "    * Assess whether removing older data results in significant event or user loss.\n",
    "    * Ensure that users from all three experimental groups are present.\n",
    "4. Analyze the Event Funnel\n",
    "    * Identify all events in the log and their frequencies. Rank events by frequency.\n",
    "    * Count the number of users performing each action and rank the events accordingly.\n",
    "    * Calculate the proportion of users who performed each action at least once.\n",
    "    * Determine the order of actions taken by users. Check if they form a consistent sequence (not all events need to be included in the funnel analysis).\n",
    "    * Use the event funnel to calculate the percentage of users progressing through each stage. (For example, in the sequence A → B → C, calculate the ratio of users at stage B compared to stage A, and users at stage C compared to stage B).\n",
    "    * Identify the stages where user drop-off is significant.\n",
    "    * Determine the percentage of users who successfully complete all steps from the first event to the final purchase.\n",
    "5. Analyze Experiment Results\n",
    "    * Count the number of users in each experimental group.\n",
    "    * In the A/A test, verify the mechanism and calculations by checking whether there is a statistically significant difference between sample groups 246 and 247. Select the most popular event and determine the number of users who performed it in each control group. Calculate the percentage and check whether differences between groups are statistically significant. Repeat the procedure for all other events (ideally, create a dedicated function to automate this testing process). Ensure that groups were properly randomized.\n",
    "    * Perform the same analysis for users exposed to the new font version. Compare the results with each control group separately and with the combined control group results. Draw conclusions from the experiment based on the findings.\n",
    "    * Determine the significance level for statistical hypothesis testing. Count the total number of hypothesis tests performed. With a statistical significance level of 0.1, one out of 10 results could be incorrect. Decide whether to adjust the significance level and rerun the previous steps if necessary to refine the conclusions."
   ]
  },
  {
   "cell_type": "markdown",
   "metadata": {},
   "source": [
    "# 1. Open the Data File and Review General Information."
   ]
  },
  {
   "cell_type": "code",
   "execution_count": 76,
   "metadata": {},
   "outputs": [],
   "source": [
    "import pandas as pd\n",
    "import matplotlib.pyplot as plt\n",
    "import seaborn as sns\n",
    "import numpy as np\n",
    "from datetime import datetime, timedelta\n",
    "import datetime as dt\n",
    "from scipy.stats import ttest_ind\n",
    "from scipy.stats import mannwhitneyu\n",
    "import math\n",
    "from scipy import stats"
   ]
  },
  {
   "cell_type": "code",
   "execution_count": 77,
   "metadata": {},
   "outputs": [],
   "source": [
    "df = pd.read_csv('/datasets/logs_exp_us.csv', sep='\\t')"
   ]
  },
  {
   "cell_type": "code",
   "execution_count": 78,
   "metadata": {},
   "outputs": [
    {
     "data": {
      "text/html": [
       "<div>\n",
       "<style scoped>\n",
       "    .dataframe tbody tr th:only-of-type {\n",
       "        vertical-align: middle;\n",
       "    }\n",
       "\n",
       "    .dataframe tbody tr th {\n",
       "        vertical-align: top;\n",
       "    }\n",
       "\n",
       "    .dataframe thead th {\n",
       "        text-align: right;\n",
       "    }\n",
       "</style>\n",
       "<table border=\"1\" class=\"dataframe\">\n",
       "  <thead>\n",
       "    <tr style=\"text-align: right;\">\n",
       "      <th></th>\n",
       "      <th>EventName</th>\n",
       "      <th>DeviceIDHash</th>\n",
       "      <th>EventTimestamp</th>\n",
       "      <th>ExpId</th>\n",
       "    </tr>\n",
       "  </thead>\n",
       "  <tbody>\n",
       "    <tr>\n",
       "      <th>171942</th>\n",
       "      <td>OffersScreenAppear</td>\n",
       "      <td>1877880950237790633</td>\n",
       "      <td>1565028653</td>\n",
       "      <td>246</td>\n",
       "    </tr>\n",
       "    <tr>\n",
       "      <th>191742</th>\n",
       "      <td>MainScreenAppear</td>\n",
       "      <td>8053226986683644992</td>\n",
       "      <td>1565091063</td>\n",
       "      <td>247</td>\n",
       "    </tr>\n",
       "    <tr>\n",
       "      <th>182772</th>\n",
       "      <td>MainScreenAppear</td>\n",
       "      <td>7086945417901847497</td>\n",
       "      <td>1565073778</td>\n",
       "      <td>246</td>\n",
       "    </tr>\n",
       "    <tr>\n",
       "      <th>76637</th>\n",
       "      <td>MainScreenAppear</td>\n",
       "      <td>8803711870189910977</td>\n",
       "      <td>1564809291</td>\n",
       "      <td>247</td>\n",
       "    </tr>\n",
       "    <tr>\n",
       "      <th>30961</th>\n",
       "      <td>MainScreenAppear</td>\n",
       "      <td>2070535981871901035</td>\n",
       "      <td>1564679469</td>\n",
       "      <td>247</td>\n",
       "    </tr>\n",
       "  </tbody>\n",
       "</table>\n",
       "</div>"
      ],
      "text/plain": [
       "                 EventName         DeviceIDHash  EventTimestamp  ExpId\n",
       "171942  OffersScreenAppear  1877880950237790633      1565028653    246\n",
       "191742    MainScreenAppear  8053226986683644992      1565091063    247\n",
       "182772    MainScreenAppear  7086945417901847497      1565073778    246\n",
       "76637     MainScreenAppear  8803711870189910977      1564809291    247\n",
       "30961     MainScreenAppear  2070535981871901035      1564679469    247"
      ]
     },
     "execution_count": 78,
     "metadata": {},
     "output_type": "execute_result"
    }
   ],
   "source": [
    "df.sample(5)"
   ]
  },
  {
   "cell_type": "markdown",
   "metadata": {},
   "source": [
    "# 2. Prepare the Data for Analysis"
   ]
  },
  {
   "cell_type": "code",
   "execution_count": 79,
   "metadata": {},
   "outputs": [],
   "source": [
    "# Merapikan nama kolom\n",
    "df = df.rename(columns = {'EventName': 'event_name', 'DeviceIDHash': 'device_id_hash', 'EventTimestamp': 'event_time_stamp', 'ExpId': 'exp_id'})\n"
   ]
  },
  {
   "cell_type": "code",
   "execution_count": 80,
   "metadata": {},
   "outputs": [
    {
     "name": "stdout",
     "output_type": "stream",
     "text": [
      "<class 'pandas.core.frame.DataFrame'>\n",
      "RangeIndex: 244126 entries, 0 to 244125\n",
      "Data columns (total 4 columns):\n",
      " #   Column            Non-Null Count   Dtype \n",
      "---  ------            --------------   ----- \n",
      " 0   event_name        244126 non-null  object\n",
      " 1   device_id_hash    244126 non-null  int64 \n",
      " 2   event_time_stamp  244126 non-null  int64 \n",
      " 3   exp_id            244126 non-null  int64 \n",
      "dtypes: int64(3), object(1)\n",
      "memory usage: 7.5+ MB\n"
     ]
    }
   ],
   "source": [
    "df.info()"
   ]
  },
  {
   "cell_type": "code",
   "execution_count": 81,
   "metadata": {},
   "outputs": [],
   "source": [
    "# ubah tipe data\n",
    "df['event_time_stamp'] = pd.to_datetime(df['event_time_stamp'], unit='s')"
   ]
  },
  {
   "cell_type": "code",
   "execution_count": 82,
   "metadata": {},
   "outputs": [],
   "source": [
    "df['date'] = df['event_time_stamp'].dt.date"
   ]
  },
  {
   "cell_type": "code",
   "execution_count": 83,
   "metadata": {},
   "outputs": [
    {
     "name": "stdout",
     "output_type": "stream",
     "text": [
      "<class 'pandas.core.frame.DataFrame'>\n",
      "RangeIndex: 244126 entries, 0 to 244125\n",
      "Data columns (total 5 columns):\n",
      " #   Column            Non-Null Count   Dtype         \n",
      "---  ------            --------------   -----         \n",
      " 0   event_name        244126 non-null  object        \n",
      " 1   device_id_hash    244126 non-null  int64         \n",
      " 2   event_time_stamp  244126 non-null  datetime64[ns]\n",
      " 3   exp_id            244126 non-null  int64         \n",
      " 4   date              244126 non-null  object        \n",
      "dtypes: datetime64[ns](1), int64(2), object(2)\n",
      "memory usage: 9.3+ MB\n"
     ]
    }
   ],
   "source": [
    "df.info()"
   ]
  },
  {
   "cell_type": "code",
   "execution_count": 84,
   "metadata": {
    "scrolled": true
   },
   "outputs": [
    {
     "data": {
      "text/html": [
       "<div>\n",
       "<style scoped>\n",
       "    .dataframe tbody tr th:only-of-type {\n",
       "        vertical-align: middle;\n",
       "    }\n",
       "\n",
       "    .dataframe tbody tr th {\n",
       "        vertical-align: top;\n",
       "    }\n",
       "\n",
       "    .dataframe thead th {\n",
       "        text-align: right;\n",
       "    }\n",
       "</style>\n",
       "<table border=\"1\" class=\"dataframe\">\n",
       "  <thead>\n",
       "    <tr style=\"text-align: right;\">\n",
       "      <th></th>\n",
       "      <th>event_name</th>\n",
       "      <th>device_id_hash</th>\n",
       "      <th>event_time_stamp</th>\n",
       "      <th>exp_id</th>\n",
       "      <th>date</th>\n",
       "    </tr>\n",
       "  </thead>\n",
       "  <tbody>\n",
       "    <tr>\n",
       "      <th>196189</th>\n",
       "      <td>MainScreenAppear</td>\n",
       "      <td>6970800422549976561</td>\n",
       "      <td>2019-08-06 13:46:45</td>\n",
       "      <td>247</td>\n",
       "      <td>2019-08-06</td>\n",
       "    </tr>\n",
       "    <tr>\n",
       "      <th>230733</th>\n",
       "      <td>MainScreenAppear</td>\n",
       "      <td>5924419344399155002</td>\n",
       "      <td>2019-08-07 14:10:37</td>\n",
       "      <td>247</td>\n",
       "      <td>2019-08-07</td>\n",
       "    </tr>\n",
       "    <tr>\n",
       "      <th>209595</th>\n",
       "      <td>MainScreenAppear</td>\n",
       "      <td>7591988149828654727</td>\n",
       "      <td>2019-08-06 19:04:44</td>\n",
       "      <td>248</td>\n",
       "      <td>2019-08-06</td>\n",
       "    </tr>\n",
       "    <tr>\n",
       "      <th>138085</th>\n",
       "      <td>OffersScreenAppear</td>\n",
       "      <td>6765073978511963806</td>\n",
       "      <td>2019-08-04 19:24:35</td>\n",
       "      <td>248</td>\n",
       "      <td>2019-08-04</td>\n",
       "    </tr>\n",
       "    <tr>\n",
       "      <th>112980</th>\n",
       "      <td>PaymentScreenSuccessful</td>\n",
       "      <td>4699227090087181127</td>\n",
       "      <td>2019-08-04 07:35:54</td>\n",
       "      <td>246</td>\n",
       "      <td>2019-08-04</td>\n",
       "    </tr>\n",
       "  </tbody>\n",
       "</table>\n",
       "</div>"
      ],
      "text/plain": [
       "                     event_name       device_id_hash    event_time_stamp  \\\n",
       "196189         MainScreenAppear  6970800422549976561 2019-08-06 13:46:45   \n",
       "230733         MainScreenAppear  5924419344399155002 2019-08-07 14:10:37   \n",
       "209595         MainScreenAppear  7591988149828654727 2019-08-06 19:04:44   \n",
       "138085       OffersScreenAppear  6765073978511963806 2019-08-04 19:24:35   \n",
       "112980  PaymentScreenSuccessful  4699227090087181127 2019-08-04 07:35:54   \n",
       "\n",
       "        exp_id        date  \n",
       "196189     247  2019-08-06  \n",
       "230733     247  2019-08-07  \n",
       "209595     248  2019-08-06  \n",
       "138085     248  2019-08-04  \n",
       "112980     246  2019-08-04  "
      ]
     },
     "execution_count": 84,
     "metadata": {},
     "output_type": "execute_result"
    }
   ],
   "source": [
    "df.sample(5)"
   ]
  },
  {
   "cell_type": "markdown",
   "metadata": {},
   "source": [
    "**Note**\n",
    "- No missing data\n",
    "- Column names have been renamed\n",
    "- Data types have been adjusted, and a date column has been added"
   ]
  },
  {
   "cell_type": "markdown",
   "metadata": {},
   "source": [
    "# 3. Review and analyze the data\n",
    "## How many events are recorded in the log?"
   ]
  },
  {
   "cell_type": "code",
   "execution_count": 85,
   "metadata": {},
   "outputs": [
    {
     "data": {
      "text/plain": [
       "244126"
      ]
     },
     "execution_count": 85,
     "metadata": {},
     "output_type": "execute_result"
    }
   ],
   "source": [
    "df.shape[0]"
   ]
  },
  {
   "cell_type": "markdown",
   "metadata": {},
   "source": [
    "## How many users are recorded in the log?"
   ]
  },
  {
   "cell_type": "code",
   "execution_count": 86,
   "metadata": {},
   "outputs": [
    {
     "data": {
      "text/plain": [
       "7551"
      ]
     },
     "execution_count": 86,
     "metadata": {},
     "output_type": "execute_result"
    }
   ],
   "source": [
    "user_count = df['device_id_hash'].nunique()\n",
    "user_count"
   ]
  },
  {
   "cell_type": "markdown",
   "metadata": {},
   "source": [
    "## What is the average number of events per user?"
   ]
  },
  {
   "cell_type": "code",
   "execution_count": 87,
   "metadata": {},
   "outputs": [
    {
     "data": {
      "text/plain": [
       "32.33028737915508"
      ]
     },
     "execution_count": 87,
     "metadata": {},
     "output_type": "execute_result"
    }
   ],
   "source": [
    "# Mengelompokkan peristiwa berdasarkan pengguna dan menghitung jumlah peristiwa per pengguna\n",
    "peristiwa_per_pengguna = df.groupby('device_id_hash')['event_name'].count()\n",
    "\n",
    "# Menghitung rata-rata peristiwa per pengguna\n",
    "avg_peristiwa_per_pengguna = peristiwa_per_pengguna.mean()\n",
    "avg_peristiwa_per_pengguna"
   ]
  },
  {
   "cell_type": "markdown",
   "metadata": {},
   "source": [
    "## What time period does the data cover? Find the maximum and minimum dates. Create a histogram based on date and time. Can you confirm that the data is complete for the entire period? Some past events may appear in the log for certain users due to technical reasons, which could distort the overall data distribution. Identify the point when the data becomes complete and ignore the older data. What time period is truly represented by your dataset?"
   ]
  },
  {
   "cell_type": "code",
   "execution_count": 88,
   "metadata": {},
   "outputs": [
    {
     "name": "stdout",
     "output_type": "stream",
     "text": [
      "Tanggal Minimum: 2019-07-25 04:43:36\n",
      "Tanggal Maksimum: 2019-08-07 21:15:17\n"
     ]
    }
   ],
   "source": [
    "# Menentukan tanggal minimum\n",
    "tanggal_minimum = df['event_time_stamp'].min()\n",
    "\n",
    "# Menentukan tanggal maksimum\n",
    "tanggal_maksimum = df['event_time_stamp'].max()\n",
    "\n",
    "print(\"Tanggal Minimum:\", tanggal_minimum)\n",
    "print(\"Tanggal Maksimum:\", tanggal_maksimum)"
   ]
  },
  {
   "cell_type": "code",
   "execution_count": 89,
   "metadata": {},
   "outputs": [
    {
     "data": {
      "image/png": "[encoded data removed]",
      "text/plain": [
       "<Figure size 720x432 with 1 Axes>"
      ]
     },
     "metadata": {
      "needs_background": "light"
     },
     "output_type": "display_data"
    }
   ],
   "source": [
    "plt.figure(figsize=(10, 6))\n",
    "sns.histplot(df['event_time_stamp'], bins=30, kde=False, color='blue', edgecolor='black')\n",
    "plt.xticks(rotation=45, ha='right')\n",
    "plt.xlabel('Tanggal dan Waktu')\n",
    "plt.ylabel('Jumlah Peristiwa')\n",
    "plt.title('Histogram Peristiwa Berdasarkan Tanggal dan Waktu')\n",
    "plt.show()"
   ]
  },
  {
   "cell_type": "markdown",
   "metadata": {},
   "source": [
    "**Note**\n",
    "The available data from the histogram ranges from July 25, 2019, to August 7, 2019, but it is not complete for the entire period. The events with a fully distributed and complete dataset start from July 31, 2019, to August 7, 2019. Therefore, we have decided to use the data within this period."
   ]
  },
  {
   "cell_type": "markdown",
   "metadata": {},
   "source": [
    "## Did we lose a significant number of events and users after removing the old data?"
   ]
  },
  {
   "cell_type": "code",
   "execution_count": 90,
   "metadata": {},
   "outputs": [
    {
     "data": {
      "text/html": [
       "<div>\n",
       "<style scoped>\n",
       "    .dataframe tbody tr th:only-of-type {\n",
       "        vertical-align: middle;\n",
       "    }\n",
       "\n",
       "    .dataframe tbody tr th {\n",
       "        vertical-align: top;\n",
       "    }\n",
       "\n",
       "    .dataframe thead th {\n",
       "        text-align: right;\n",
       "    }\n",
       "</style>\n",
       "<table border=\"1\" class=\"dataframe\">\n",
       "  <thead>\n",
       "    <tr style=\"text-align: right;\">\n",
       "      <th></th>\n",
       "      <th>event_name</th>\n",
       "      <th>device_id_hash</th>\n",
       "      <th>event_time_stamp</th>\n",
       "      <th>exp_id</th>\n",
       "      <th>date</th>\n",
       "    </tr>\n",
       "  </thead>\n",
       "  <tbody>\n",
       "    <tr>\n",
       "      <th>797</th>\n",
       "      <td>MainScreenAppear</td>\n",
       "      <td>3670880358399219515</td>\n",
       "      <td>2019-07-31 01:11:46</td>\n",
       "      <td>247</td>\n",
       "      <td>2019-07-31</td>\n",
       "    </tr>\n",
       "    <tr>\n",
       "      <th>798</th>\n",
       "      <td>OffersScreenAppear</td>\n",
       "      <td>3799109751993694887</td>\n",
       "      <td>2019-07-31 01:21:04</td>\n",
       "      <td>248</td>\n",
       "      <td>2019-07-31</td>\n",
       "    </tr>\n",
       "    <tr>\n",
       "      <th>799</th>\n",
       "      <td>Tutorial</td>\n",
       "      <td>1126021718529336913</td>\n",
       "      <td>2019-07-31 01:32:11</td>\n",
       "      <td>247</td>\n",
       "      <td>2019-07-31</td>\n",
       "    </tr>\n",
       "    <tr>\n",
       "      <th>800</th>\n",
       "      <td>MainScreenAppear</td>\n",
       "      <td>4293428370257583636</td>\n",
       "      <td>2019-07-31 02:19:18</td>\n",
       "      <td>248</td>\n",
       "      <td>2019-07-31</td>\n",
       "    </tr>\n",
       "    <tr>\n",
       "      <th>801</th>\n",
       "      <td>MainScreenAppear</td>\n",
       "      <td>4567464647598975872</td>\n",
       "      <td>2019-07-31 02:33:30</td>\n",
       "      <td>247</td>\n",
       "      <td>2019-07-31</td>\n",
       "    </tr>\n",
       "    <tr>\n",
       "      <th>...</th>\n",
       "      <td>...</td>\n",
       "      <td>...</td>\n",
       "      <td>...</td>\n",
       "      <td>...</td>\n",
       "      <td>...</td>\n",
       "    </tr>\n",
       "    <tr>\n",
       "      <th>244121</th>\n",
       "      <td>MainScreenAppear</td>\n",
       "      <td>4599628364049201812</td>\n",
       "      <td>2019-08-07 21:12:25</td>\n",
       "      <td>247</td>\n",
       "      <td>2019-08-07</td>\n",
       "    </tr>\n",
       "    <tr>\n",
       "      <th>244122</th>\n",
       "      <td>MainScreenAppear</td>\n",
       "      <td>5849806612437486590</td>\n",
       "      <td>2019-08-07 21:13:59</td>\n",
       "      <td>246</td>\n",
       "      <td>2019-08-07</td>\n",
       "    </tr>\n",
       "    <tr>\n",
       "      <th>244123</th>\n",
       "      <td>MainScreenAppear</td>\n",
       "      <td>5746969938801999050</td>\n",
       "      <td>2019-08-07 21:14:43</td>\n",
       "      <td>246</td>\n",
       "      <td>2019-08-07</td>\n",
       "    </tr>\n",
       "    <tr>\n",
       "      <th>244124</th>\n",
       "      <td>MainScreenAppear</td>\n",
       "      <td>5746969938801999050</td>\n",
       "      <td>2019-08-07 21:14:58</td>\n",
       "      <td>246</td>\n",
       "      <td>2019-08-07</td>\n",
       "    </tr>\n",
       "    <tr>\n",
       "      <th>244125</th>\n",
       "      <td>OffersScreenAppear</td>\n",
       "      <td>5746969938801999050</td>\n",
       "      <td>2019-08-07 21:15:17</td>\n",
       "      <td>246</td>\n",
       "      <td>2019-08-07</td>\n",
       "    </tr>\n",
       "  </tbody>\n",
       "</table>\n",
       "<p>243329 rows × 5 columns</p>\n",
       "</div>"
      ],
      "text/plain": [
       "                event_name       device_id_hash    event_time_stamp  exp_id  \\\n",
       "797       MainScreenAppear  3670880358399219515 2019-07-31 01:11:46     247   \n",
       "798     OffersScreenAppear  3799109751993694887 2019-07-31 01:21:04     248   \n",
       "799               Tutorial  1126021718529336913 2019-07-31 01:32:11     247   \n",
       "800       MainScreenAppear  4293428370257583636 2019-07-31 02:19:18     248   \n",
       "801       MainScreenAppear  4567464647598975872 2019-07-31 02:33:30     247   \n",
       "...                    ...                  ...                 ...     ...   \n",
       "244121    MainScreenAppear  4599628364049201812 2019-08-07 21:12:25     247   \n",
       "244122    MainScreenAppear  5849806612437486590 2019-08-07 21:13:59     246   \n",
       "244123    MainScreenAppear  5746969938801999050 2019-08-07 21:14:43     246   \n",
       "244124    MainScreenAppear  5746969938801999050 2019-08-07 21:14:58     246   \n",
       "244125  OffersScreenAppear  5746969938801999050 2019-08-07 21:15:17     246   \n",
       "\n",
       "              date  \n",
       "797     2019-07-31  \n",
       "798     2019-07-31  \n",
       "799     2019-07-31  \n",
       "800     2019-07-31  \n",
       "801     2019-07-31  \n",
       "...            ...  \n",
       "244121  2019-08-07  \n",
       "244122  2019-08-07  \n",
       "244123  2019-08-07  \n",
       "244124  2019-08-07  \n",
       "244125  2019-08-07  \n",
       "\n",
       "[243329 rows x 5 columns]"
      ]
     },
     "execution_count": 90,
     "metadata": {},
     "output_type": "execute_result"
    }
   ],
   "source": [
    "df_filtered = df[df['event_time_stamp'] >= '2019-07-31']\n",
    "df_filtered"
   ]
  },
  {
   "cell_type": "code",
   "execution_count": 91,
   "metadata": {},
   "outputs": [
    {
     "name": "stdout",
     "output_type": "stream",
     "text": [
      "Persentase data sebelum 31-07-2019: 0.33%\n"
     ]
    }
   ],
   "source": [
    "total_baris = len(df)\n",
    "jumlah_baris = len(df[df['event_time_stamp'] < '2019-07-31'])\n",
    "persentase = (jumlah_baris / total_baris) * 100\n",
    "print(f\"Persentase data sebelum 31-07-2019: {persentase:.2f}%\")"
   ]
  },
  {
   "cell_type": "markdown",
   "metadata": {},
   "source": [
    "**Note**\n",
    "The excluded data accounts for less than 1%, so we have decided to use `df_filtered` for the next analysis."
   ]
  },
  {
   "cell_type": "markdown",
   "metadata": {},
   "source": [
    "## Ensure that users from all three experimental groups are present."
   ]
  },
  {
   "cell_type": "code",
   "execution_count": 92,
   "metadata": {},
   "outputs": [
    {
     "name": "stdout",
     "output_type": "stream",
     "text": [
      "Jumlah kelompok eksperimen: 3\n"
     ]
    }
   ],
   "source": [
    "eksperimen = df_filtered['exp_id'].nunique()\n",
    "print(f\"Jumlah kelompok eksperimen: {eksperimen}\")"
   ]
  },
  {
   "cell_type": "code",
   "execution_count": 93,
   "metadata": {},
   "outputs": [
    {
     "data": {
      "text/plain": [
       "array([247, 248, 246])"
      ]
     },
     "execution_count": 93,
     "metadata": {},
     "output_type": "execute_result"
    }
   ],
   "source": [
    "df_filtered['exp_id'].unique()"
   ]
  },
  {
   "cell_type": "markdown",
   "metadata": {},
   "source": [
    "**Note** There are three experimental groups in the filtered data: Group 247, Group 248, and Group 246."
   ]
  },
  {
   "cell_type": "markdown",
   "metadata": {},
   "source": [
    "# 4. Analyze the event funnel"
   ]
  },
  {
   "cell_type": "markdown",
   "metadata": {},
   "source": [
    "**1. Identify the events recorded in the log and their occurrence frequency. Sort the events based on their frequency.**"
   ]
  },
  {
   "cell_type": "code",
   "execution_count": 94,
   "metadata": {},
   "outputs": [
    {
     "data": {
      "text/plain": [
       "MainScreenAppear           118681\n",
       "OffersScreenAppear          46724\n",
       "CartScreenAppear            42623\n",
       "PaymentScreenSuccessful     34253\n",
       "Tutorial                     1048\n",
       "Name: event_name, dtype: int64"
      ]
     },
     "execution_count": 94,
     "metadata": {},
     "output_type": "execute_result"
    }
   ],
   "source": [
    "# jenis peristiwa\n",
    "event = df_filtered['event_name'].value_counts(ascending=False)\n",
    "event"
   ]
  },
  {
   "cell_type": "code",
   "execution_count": 95,
   "metadata": {},
   "outputs": [
    {
     "data": {
      "text/plain": [
       "<AxesSubplot:>"
      ]
     },
     "execution_count": 95,
     "metadata": {},
     "output_type": "execute_result"
    },
    {
     "data": {
      "image/png": "[encoded data removed]",
      "text/plain": [
       "<Figure size 432x288 with 1 Axes>"
      ]
     },
     "metadata": {
      "needs_background": "light"
     },
     "output_type": "display_data"
    }
   ],
   "source": [
    "sns.barplot(x=event.values, y=event.index, palette=\"viridis\")"
   ]
  },
  {
   "cell_type": "markdown",
   "metadata": {},
   "source": [
    "**Note** There are five events recorded. The most frequent event is MainScreenAppear, while the least frequent event is Tutorial."
   ]
  },
  {
   "cell_type": "markdown",
   "metadata": {},
   "source": [
    "**2. Find the number of users who performed each action. Sort the events based on the number of users. Calculate the proportion of users who performed each action at least once.**"
   ]
  },
  {
   "cell_type": "code",
   "execution_count": 96,
   "metadata": {},
   "outputs": [
    {
     "data": {
      "text/html": [
       "<div>\n",
       "<style scoped>\n",
       "    .dataframe tbody tr th:only-of-type {\n",
       "        vertical-align: middle;\n",
       "    }\n",
       "\n",
       "    .dataframe tbody tr th {\n",
       "        vertical-align: top;\n",
       "    }\n",
       "\n",
       "    .dataframe thead th {\n",
       "        text-align: right;\n",
       "    }\n",
       "</style>\n",
       "<table border=\"1\" class=\"dataframe\">\n",
       "  <thead>\n",
       "    <tr style=\"text-align: right;\">\n",
       "      <th></th>\n",
       "      <th>device_id_hash</th>\n",
       "    </tr>\n",
       "    <tr>\n",
       "      <th>event_name</th>\n",
       "      <th></th>\n",
       "    </tr>\n",
       "  </thead>\n",
       "  <tbody>\n",
       "    <tr>\n",
       "      <th>MainScreenAppear</th>\n",
       "      <td>7429</td>\n",
       "    </tr>\n",
       "    <tr>\n",
       "      <th>OffersScreenAppear</th>\n",
       "      <td>4606</td>\n",
       "    </tr>\n",
       "    <tr>\n",
       "      <th>CartScreenAppear</th>\n",
       "      <td>3742</td>\n",
       "    </tr>\n",
       "    <tr>\n",
       "      <th>PaymentScreenSuccessful</th>\n",
       "      <td>3542</td>\n",
       "    </tr>\n",
       "    <tr>\n",
       "      <th>Tutorial</th>\n",
       "      <td>845</td>\n",
       "    </tr>\n",
       "  </tbody>\n",
       "</table>\n",
       "</div>"
      ],
      "text/plain": [
       "                         device_id_hash\n",
       "event_name                             \n",
       "MainScreenAppear                   7429\n",
       "OffersScreenAppear                 4606\n",
       "CartScreenAppear                   3742\n",
       "PaymentScreenSuccessful            3542\n",
       "Tutorial                            845"
      ]
     },
     "execution_count": 96,
     "metadata": {},
     "output_type": "execute_result"
    }
   ],
   "source": [
    "users_per_event = df_filtered.pivot_table(\n",
    "    index='event_name',\n",
    "    values='device_id_hash',\n",
    "    aggfunc='nunique').sort_values('device_id_hash', ascending=False)\n",
    "users_per_event"
   ]
  },
  {
   "cell_type": "code",
   "execution_count": 97,
   "metadata": {},
   "outputs": [
    {
     "data": {
      "text/html": [
       "<div>\n",
       "<style scoped>\n",
       "    .dataframe tbody tr th:only-of-type {\n",
       "        vertical-align: middle;\n",
       "    }\n",
       "\n",
       "    .dataframe tbody tr th {\n",
       "        vertical-align: top;\n",
       "    }\n",
       "\n",
       "    .dataframe thead th {\n",
       "        text-align: right;\n",
       "    }\n",
       "</style>\n",
       "<table border=\"1\" class=\"dataframe\">\n",
       "  <thead>\n",
       "    <tr style=\"text-align: right;\">\n",
       "      <th></th>\n",
       "      <th>device_id_hash</th>\n",
       "    </tr>\n",
       "    <tr>\n",
       "      <th>event_name</th>\n",
       "      <th></th>\n",
       "    </tr>\n",
       "  </thead>\n",
       "  <tbody>\n",
       "    <tr>\n",
       "      <th>MainScreenAppear</th>\n",
       "      <td>98.384320</td>\n",
       "    </tr>\n",
       "    <tr>\n",
       "      <th>OffersScreenAppear</th>\n",
       "      <td>60.998543</td>\n",
       "    </tr>\n",
       "    <tr>\n",
       "      <th>CartScreenAppear</th>\n",
       "      <td>49.556350</td>\n",
       "    </tr>\n",
       "    <tr>\n",
       "      <th>PaymentScreenSuccessful</th>\n",
       "      <td>46.907694</td>\n",
       "    </tr>\n",
       "    <tr>\n",
       "      <th>Tutorial</th>\n",
       "      <td>11.190571</td>\n",
       "    </tr>\n",
       "  </tbody>\n",
       "</table>\n",
       "</div>"
      ],
      "text/plain": [
       "                         device_id_hash\n",
       "event_name                             \n",
       "MainScreenAppear              98.384320\n",
       "OffersScreenAppear            60.998543\n",
       "CartScreenAppear              49.556350\n",
       "PaymentScreenSuccessful       46.907694\n",
       "Tutorial                      11.190571"
      ]
     },
     "execution_count": 97,
     "metadata": {},
     "output_type": "execute_result"
    }
   ],
   "source": [
    "# Jumlah pengguna unik secara keseluruhan\n",
    "total_users = df['device_id_hash'].nunique()\n",
    "\n",
    "# Menghitung proporsi pengguna yang melakukan setidaknya satu tindakan\n",
    "proporsi = users_per_event / total_users * 100\n",
    "proporsi"
   ]
  },
  {
   "cell_type": "markdown",
   "metadata": {},
   "source": [
    "**Note** The event \"MainScreenAppear\" dominates the data, accounting for 98% of occurrences. This is likely the most common or initial action performed by users."
   ]
  },
  {
   "cell_type": "markdown",
   "metadata": {},
   "source": [
    "**3. In what order do these actions occur? Are they all part of a single sequence? You don’t need to include all events when calculating the funnel.**"
   ]
  },
  {
   "cell_type": "code",
   "execution_count": 98,
   "metadata": {},
   "outputs": [
    {
     "data": {
      "text/html": [
       "<div>\n",
       "<style scoped>\n",
       "    .dataframe tbody tr th:only-of-type {\n",
       "        vertical-align: middle;\n",
       "    }\n",
       "\n",
       "    .dataframe tbody tr th {\n",
       "        vertical-align: top;\n",
       "    }\n",
       "\n",
       "    .dataframe thead th {\n",
       "        text-align: right;\n",
       "    }\n",
       "</style>\n",
       "<table border=\"1\" class=\"dataframe\">\n",
       "  <thead>\n",
       "    <tr style=\"text-align: right;\">\n",
       "      <th></th>\n",
       "      <th>event_name</th>\n",
       "      <th>device_id_hash</th>\n",
       "      <th>event_time_stamp</th>\n",
       "      <th>exp_id</th>\n",
       "      <th>date</th>\n",
       "    </tr>\n",
       "  </thead>\n",
       "  <tbody>\n",
       "    <tr>\n",
       "      <th>197263</th>\n",
       "      <td>MainScreenAppear</td>\n",
       "      <td>6888746892508752</td>\n",
       "      <td>2019-08-06 14:06:34</td>\n",
       "      <td>246</td>\n",
       "      <td>2019-08-06</td>\n",
       "    </tr>\n",
       "    <tr>\n",
       "      <th>209196</th>\n",
       "      <td>MainScreenAppear</td>\n",
       "      <td>6909561520679493</td>\n",
       "      <td>2019-08-06 18:52:54</td>\n",
       "      <td>247</td>\n",
       "      <td>2019-08-06</td>\n",
       "    </tr>\n",
       "    <tr>\n",
       "      <th>209199</th>\n",
       "      <td>PaymentScreenSuccessful</td>\n",
       "      <td>6909561520679493</td>\n",
       "      <td>2019-08-06 18:52:58</td>\n",
       "      <td>247</td>\n",
       "      <td>2019-08-06</td>\n",
       "    </tr>\n",
       "    <tr>\n",
       "      <th>209200</th>\n",
       "      <td>CartScreenAppear</td>\n",
       "      <td>6909561520679493</td>\n",
       "      <td>2019-08-06 18:52:58</td>\n",
       "      <td>247</td>\n",
       "      <td>2019-08-06</td>\n",
       "    </tr>\n",
       "    <tr>\n",
       "      <th>209201</th>\n",
       "      <td>MainScreenAppear</td>\n",
       "      <td>6909561520679493</td>\n",
       "      <td>2019-08-06 18:52:58</td>\n",
       "      <td>247</td>\n",
       "      <td>2019-08-06</td>\n",
       "    </tr>\n",
       "    <tr>\n",
       "      <th>...</th>\n",
       "      <td>...</td>\n",
       "      <td>...</td>\n",
       "      <td>...</td>\n",
       "      <td>...</td>\n",
       "      <td>...</td>\n",
       "    </tr>\n",
       "    <tr>\n",
       "      <th>221366</th>\n",
       "      <td>MainScreenAppear</td>\n",
       "      <td>9222603179720523844</td>\n",
       "      <td>2019-08-07 09:13:37</td>\n",
       "      <td>248</td>\n",
       "      <td>2019-08-07</td>\n",
       "    </tr>\n",
       "    <tr>\n",
       "      <th>221404</th>\n",
       "      <td>MainScreenAppear</td>\n",
       "      <td>9222603179720523844</td>\n",
       "      <td>2019-08-07 09:14:53</td>\n",
       "      <td>248</td>\n",
       "      <td>2019-08-07</td>\n",
       "    </tr>\n",
       "    <tr>\n",
       "      <th>221406</th>\n",
       "      <td>MainScreenAppear</td>\n",
       "      <td>9222603179720523844</td>\n",
       "      <td>2019-08-07 09:15:01</td>\n",
       "      <td>248</td>\n",
       "      <td>2019-08-07</td>\n",
       "    </tr>\n",
       "    <tr>\n",
       "      <th>221412</th>\n",
       "      <td>MainScreenAppear</td>\n",
       "      <td>9222603179720523844</td>\n",
       "      <td>2019-08-07 09:15:13</td>\n",
       "      <td>248</td>\n",
       "      <td>2019-08-07</td>\n",
       "    </tr>\n",
       "    <tr>\n",
       "      <th>221438</th>\n",
       "      <td>MainScreenAppear</td>\n",
       "      <td>9222603179720523844</td>\n",
       "      <td>2019-08-07 09:16:20</td>\n",
       "      <td>248</td>\n",
       "      <td>2019-08-07</td>\n",
       "    </tr>\n",
       "  </tbody>\n",
       "</table>\n",
       "<p>243329 rows × 5 columns</p>\n",
       "</div>"
      ],
      "text/plain": [
       "                     event_name       device_id_hash    event_time_stamp  \\\n",
       "197263         MainScreenAppear     6888746892508752 2019-08-06 14:06:34   \n",
       "209196         MainScreenAppear     6909561520679493 2019-08-06 18:52:54   \n",
       "209199  PaymentScreenSuccessful     6909561520679493 2019-08-06 18:52:58   \n",
       "209200         CartScreenAppear     6909561520679493 2019-08-06 18:52:58   \n",
       "209201         MainScreenAppear     6909561520679493 2019-08-06 18:52:58   \n",
       "...                         ...                  ...                 ...   \n",
       "221366         MainScreenAppear  9222603179720523844 2019-08-07 09:13:37   \n",
       "221404         MainScreenAppear  9222603179720523844 2019-08-07 09:14:53   \n",
       "221406         MainScreenAppear  9222603179720523844 2019-08-07 09:15:01   \n",
       "221412         MainScreenAppear  9222603179720523844 2019-08-07 09:15:13   \n",
       "221438         MainScreenAppear  9222603179720523844 2019-08-07 09:16:20   \n",
       "\n",
       "        exp_id        date  \n",
       "197263     246  2019-08-06  \n",
       "209196     247  2019-08-06  \n",
       "209199     247  2019-08-06  \n",
       "209200     247  2019-08-06  \n",
       "209201     247  2019-08-06  \n",
       "...        ...         ...  \n",
       "221366     248  2019-08-07  \n",
       "221404     248  2019-08-07  \n",
       "221406     248  2019-08-07  \n",
       "221412     248  2019-08-07  \n",
       "221438     248  2019-08-07  \n",
       "\n",
       "[243329 rows x 5 columns]"
      ]
     },
     "execution_count": 98,
     "metadata": {},
     "output_type": "execute_result"
    }
   ],
   "source": [
    "# Mengurutkan DataFrame berdasarkan device_id_hash dan event_timestamp\n",
    "df_sorted = df_filtered.sort_values(by=['device_id_hash', 'event_time_stamp'])\n",
    "df_sorted"
   ]
  },
  {
   "cell_type": "code",
   "execution_count": 99,
   "metadata": {},
   "outputs": [
    {
     "data": {
      "text/plain": [
       "device_id_hash\n",
       "6888746892508752                                      [MainScreenAppear]\n",
       "6909561520679493       [MainScreenAppear, PaymentScreenSuccessful, Ca...\n",
       "6922444491712477       [MainScreenAppear, PaymentScreenSuccessful, Ca...\n",
       "7435777799948366                                      [MainScreenAppear]\n",
       "7702139951469979       [MainScreenAppear, OffersScreenAppear, CartScr...\n",
       "                                             ...                        \n",
       "9217594193087726423    [PaymentScreenSuccessful, CartScreenAppear, Of...\n",
       "9219463515465815368    [MainScreenAppear, OffersScreenAppear, CartScr...\n",
       "9220879493065341500    [MainScreenAppear, OffersScreenAppear, CartScr...\n",
       "9221926045299980007                                   [MainScreenAppear]\n",
       "9222603179720523844                                   [MainScreenAppear]\n",
       "Name: event_name, Length: 7542, dtype: object"
      ]
     },
     "execution_count": 99,
     "metadata": {},
     "output_type": "execute_result"
    }
   ],
   "source": [
    "urutan_unik = df_sorted.groupby('device_id_hash')['event_name'].unique()\n",
    "urutan_unik"
   ]
  },
  {
   "cell_type": "markdown",
   "metadata": {},
   "source": [
    "**Note** The events do not always follow a single sequence. Some users start with MainScreenAppear and proceed to the next steps, while others stop at the main screen. Additionally, some users go directly to the payment page. The event order varies among users."
   ]
  },
  {
   "cell_type": "markdown",
   "metadata": {},
   "source": [
    "**4. Use the event funnel to determine the percentage of users who progress from one stage to the next. (For example, in an event sequence A → B → C, calculate: The ratio of users at stage B to the number of users at stage A,the ratio of users at stage C to the number of users at stage B, this helps identify how many users continue through each step of the funnel).**"
   ]
  },
  {
   "cell_type": "code",
   "execution_count": 100,
   "metadata": {},
   "outputs": [
    {
     "data": {
      "image/png": "[encoded data removed]",
      "text/plain": [
       "<Figure size 720x432 with 1 Axes>"
      ]
     },
     "metadata": {
      "needs_background": "light"
     },
     "output_type": "display_data"
    }
   ],
   "source": [
    "# Menganalisis Urutan Peristiwa\n",
    "urutan_peristiwa = ['MainScreenAppear', 'OffersScreenAppear', 'CartScreenAppear', 'PaymentScreenSuccessful', 'Tutorial']\n",
    "\n",
    "# Menghitung Jumlah Pengguna Unik pada Setiap Tahap\n",
    "jumlah_pengguna_tahap = []\n",
    "\n",
    "for peristiwa in urutan_peristiwa:\n",
    "    jumlah_pengguna = df_sorted[df_sorted['event_name'] == peristiwa]['device_id_hash'].nunique()\n",
    "    jumlah_pengguna_tahap.append(jumlah_pengguna)\n",
    "\n",
    "# Menghitung Persentase Pengguna yang Berlanjut\n",
    "persentase_berlanjut = [1.0]\n",
    "\n",
    "for i in range(1, len(jumlah_pengguna_tahap)):\n",
    "    persentase = jumlah_pengguna_tahap[i] / jumlah_pengguna_tahap[i - 1]\n",
    "    persentase_berlanjut.append(persentase)\n",
    "\n",
    "# Grafik\n",
    "plt.figure(figsize=(10, 6))\n",
    "plt.plot(urutan_peristiwa, persentase_berlanjut, marker='o', linestyle='-', color='b')\n",
    "plt.title('Funnel Peristiwa dan Persentase Pengguna yang Berlanjut')\n",
    "plt.xlabel('Peristiwa')\n",
    "plt.ylabel('Persentase Pengguna yang Berlanjut')\n",
    "plt.grid(True)\n",
    "plt.show()"
   ]
  },
  {
   "cell_type": "markdown",
   "metadata": {},
   "source": [
    "**5. Which stage do we lose the most users?**"
   ]
  },
  {
   "cell_type": "markdown",
   "metadata": {},
   "source": [
    "**Note** Almost 40% of users drop off at the OfferScreenAppear stage, and only a small number of users visit the Tutorial page."
   ]
  },
  {
   "cell_type": "markdown",
   "metadata": {},
   "source": [
    "**6. What percentage of users successfully complete all stages, from the first event to payment?**"
   ]
  },
  {
   "cell_type": "code",
   "execution_count": 102,
   "metadata": {},
   "outputs": [
    {
     "data": {
      "text/plain": [
       "47.6780185758514"
      ]
     },
     "execution_count": 102,
     "metadata": {},
     "output_type": "execute_result"
    }
   ],
   "source": [
    "((users_per_event.loc['PaymentScreenSuccessful'] / users_per_event.loc['MainScreenAppear'])['device_id_hash'])*100"
   ]
  },
  {
   "cell_type": "markdown",
   "metadata": {},
   "source": [
    "**Note** 47.6% of users successfully complete all stages from the first event to payment."
   ]
  },
  {
   "cell_type": "markdown",
   "metadata": {},
   "source": [
    "# 5. Analyze the experiment results"
   ]
  },
  {
   "cell_type": "markdown",
   "metadata": {},
   "source": [
    "**1. How many users are in each group?**"
   ]
  },
  {
   "cell_type": "code",
   "execution_count": 103,
   "metadata": {},
   "outputs": [
    {
     "data": {
      "text/plain": [
       "exp_id\n",
       "246    2485\n",
       "247    2517\n",
       "248    2540\n",
       "Name: device_id_hash, dtype: int64"
      ]
     },
     "execution_count": 103,
     "metadata": {},
     "output_type": "execute_result"
    }
   ],
   "source": [
    "user_per_group = df_sorted.groupby('exp_id')['device_id_hash'].nunique()\n",
    "user_per_group"
   ]
  },
  {
   "cell_type": "code",
   "execution_count": 104,
   "metadata": {},
   "outputs": [
    {
     "data": {
      "image/png": "[encoded data removed]",
      "text/plain": [
       "<Figure size 432x288 with 1 Axes>"
      ]
     },
     "metadata": {
      "needs_background": "light"
     },
     "output_type": "display_data"
    }
   ],
   "source": [
    "plt.bar(user_per_group.index, user_per_group.values, color='skyblue')\n",
    "plt.xlabel('Kelompok Eksperimen')\n",
    "plt.ylabel('Jumlah Pengguna Unik')\n",
    "plt.title('Jumlah Pengguna Unik per Kelompok Eksperimen')\n",
    "plt.show()"
   ]
  },
  {
   "cell_type": "markdown",
   "metadata": {},
   "source": [
    "**Note** The difference in the number of users across groups is not significant."
   ]
  },
  {
   "cell_type": "markdown",
   "metadata": {},
   "source": [
    "**2. We have two control groups in the A/A testing to verify our mechanisms and calculations. Check if there is a statistically significant difference between samples 246 and 247.**"
   ]
  },
  {
   "cell_type": "code",
   "execution_count": 105,
   "metadata": {},
   "outputs": [
    {
     "name": "stdout",
     "output_type": "stream",
     "text": [
      "Statistik uji t: -10.34871800538771\n",
      "Nilai p: 4.320436755174097e-25\n",
      "Ada perbedaan signifikan antara sample 246 dan 247.\n"
     ]
    }
   ],
   "source": [
    "# Mengambil data jumlah pengguna untuk masing-masing kelompok\n",
    "sample_246 = df_sorted[df_sorted['exp_id'] == 246]['device_id_hash']\n",
    "sample_247 = df_sorted[df_sorted['exp_id'] == 247]['device_id_hash']\n",
    "\n",
    "# Melakukan uji t independen\n",
    "statistik, p_value = ttest_ind(sample_246, sample_247)\n",
    "\n",
    "# Menampilkan hasil\n",
    "print(\"Statistik uji t:\", statistik)\n",
    "print(\"Nilai p:\", p_value)\n",
    "\n",
    "# Menentukan apakah perbedaan signifikan\n",
    "alpha = 0.05\n",
    "if p_value < alpha:\n",
    "    print(\"Ada perbedaan signifikan antara sample 246 dan 247.\")\n",
    "else:\n",
    "    print(\"Tidak ada perbedaan signifikan antara sample 246 dan 247.\")\n"
   ]
  },
  {
   "cell_type": "code",
   "execution_count": 106,
   "metadata": {},
   "outputs": [
    {
     "name": "stdout",
     "output_type": "stream",
     "text": [
      "Statistik uji Mann-Whitney: 3020386277.0\n",
      "Nilai p: 3.643835844223758e-25\n",
      "Ada perbedaan signifikan antara kelompok 246 dan 247.\n"
     ]
    }
   ],
   "source": [
    "# Melakukan uji Mann-Whitney\n",
    "statistik, p_value = mannwhitneyu(sample_246, sample_247)\n",
    "\n",
    "# Menampilkan hasil\n",
    "print(\"Statistik uji Mann-Whitney:\", statistik)\n",
    "print(\"Nilai p:\", p_value)\n",
    "\n",
    "# Menentukan apakah perbedaan signifikan\n",
    "alpha = 0.05\n",
    "if p_value < alpha:\n",
    "    print(\"Ada perbedaan signifikan antara kelompok 246 dan 247.\")\n",
    "else:\n",
    "    print(\"Tidak ada perbedaan signifikan antara kelompok 246 dan 247.\")"
   ]
  },
  {
   "cell_type": "markdown",
   "metadata": {},
   "source": [
    "**Note** Both the t-test and Mann-Whitney test result in a very small p-value, indicating a significant difference in the distribution ranks between groups 246 and 247."
   ]
  },
  {
   "cell_type": "markdown",
   "metadata": {},
   "source": [
    "**3. Identify the most popular event. For each control group, determine the number and percentage of users who performed this action. Check whether the differences between groups are statistically significant. Repeat this process for all events. (Creating a function to automate this testing would save time). Confirm that the groups were properly separated.**"
   ]
  },
  {
   "cell_type": "code",
   "execution_count": 107,
   "metadata": {},
   "outputs": [
    {
     "data": {
      "text/html": [
       "<div>\n",
       "<style scoped>\n",
       "    .dataframe tbody tr th:only-of-type {\n",
       "        vertical-align: middle;\n",
       "    }\n",
       "\n",
       "    .dataframe tbody tr th {\n",
       "        vertical-align: top;\n",
       "    }\n",
       "\n",
       "    .dataframe thead th {\n",
       "        text-align: right;\n",
       "    }\n",
       "</style>\n",
       "<table border=\"1\" class=\"dataframe\">\n",
       "  <thead>\n",
       "    <tr style=\"text-align: right;\">\n",
       "      <th>exp_id</th>\n",
       "      <th>246</th>\n",
       "      <th>247</th>\n",
       "      <th>248</th>\n",
       "    </tr>\n",
       "    <tr>\n",
       "      <th>event_name</th>\n",
       "      <th></th>\n",
       "      <th></th>\n",
       "      <th></th>\n",
       "    </tr>\n",
       "  </thead>\n",
       "  <tbody>\n",
       "    <tr>\n",
       "      <th>MainScreenAppear</th>\n",
       "      <td>2452</td>\n",
       "      <td>2479</td>\n",
       "      <td>2498</td>\n",
       "    </tr>\n",
       "    <tr>\n",
       "      <th>OffersScreenAppear</th>\n",
       "      <td>1544</td>\n",
       "      <td>1526</td>\n",
       "      <td>1536</td>\n",
       "    </tr>\n",
       "    <tr>\n",
       "      <th>CartScreenAppear</th>\n",
       "      <td>1267</td>\n",
       "      <td>1239</td>\n",
       "      <td>1236</td>\n",
       "    </tr>\n",
       "    <tr>\n",
       "      <th>PaymentScreenSuccessful</th>\n",
       "      <td>1200</td>\n",
       "      <td>1159</td>\n",
       "      <td>1183</td>\n",
       "    </tr>\n",
       "    <tr>\n",
       "      <th>Tutorial</th>\n",
       "      <td>278</td>\n",
       "      <td>285</td>\n",
       "      <td>282</td>\n",
       "    </tr>\n",
       "  </tbody>\n",
       "</table>\n",
       "</div>"
      ],
      "text/plain": [
       "exp_id                    246   247   248\n",
       "event_name                               \n",
       "MainScreenAppear         2452  2479  2498\n",
       "OffersScreenAppear       1544  1526  1536\n",
       "CartScreenAppear         1267  1239  1236\n",
       "PaymentScreenSuccessful  1200  1159  1183\n",
       "Tutorial                  278   285   282"
      ]
     },
     "execution_count": 107,
     "metadata": {},
     "output_type": "execute_result"
    }
   ],
   "source": [
    "user_per_peristiwa = df_sorted.pivot_table(index='event_name', values='device_id_hash', columns='exp_id', aggfunc='nunique').sort_values(by=246, ascending=False)\n",
    "user_per_peristiwa"
   ]
  },
  {
   "cell_type": "code",
   "execution_count": 108,
   "metadata": {},
   "outputs": [
    {
     "data": {
      "text/plain": [
       "exp_id\n",
       "246    MainScreenAppear\n",
       "247    MainScreenAppear\n",
       "248    MainScreenAppear\n",
       "dtype: object"
      ]
     },
     "execution_count": 108,
     "metadata": {},
     "output_type": "execute_result"
    }
   ],
   "source": [
    "pop_event = user_per_peristiwa.groupby('event_name').sum().idxmax()\n",
    "pop_event"
   ]
  },
  {
   "cell_type": "code",
   "execution_count": 109,
   "metadata": {},
   "outputs": [
    {
     "data": {
      "text/html": [
       "<div>\n",
       "<style scoped>\n",
       "    .dataframe tbody tr th:only-of-type {\n",
       "        vertical-align: middle;\n",
       "    }\n",
       "\n",
       "    .dataframe tbody tr th {\n",
       "        vertical-align: top;\n",
       "    }\n",
       "\n",
       "    .dataframe thead th {\n",
       "        text-align: right;\n",
       "    }\n",
       "</style>\n",
       "<table border=\"1\" class=\"dataframe\">\n",
       "  <thead>\n",
       "    <tr style=\"text-align: right;\">\n",
       "      <th>exp_id</th>\n",
       "      <th>246</th>\n",
       "      <th>247</th>\n",
       "      <th>248</th>\n",
       "    </tr>\n",
       "    <tr>\n",
       "      <th>event_name</th>\n",
       "      <th></th>\n",
       "      <th></th>\n",
       "      <th></th>\n",
       "    </tr>\n",
       "  </thead>\n",
       "  <tbody>\n",
       "    <tr>\n",
       "      <th>MainScreenAppear</th>\n",
       "      <td>98.672032</td>\n",
       "      <td>98.490266</td>\n",
       "      <td>98.346457</td>\n",
       "    </tr>\n",
       "    <tr>\n",
       "      <th>OffersScreenAppear</th>\n",
       "      <td>62.132797</td>\n",
       "      <td>60.627731</td>\n",
       "      <td>60.472441</td>\n",
       "    </tr>\n",
       "    <tr>\n",
       "      <th>CartScreenAppear</th>\n",
       "      <td>50.985915</td>\n",
       "      <td>49.225268</td>\n",
       "      <td>48.661417</td>\n",
       "    </tr>\n",
       "    <tr>\n",
       "      <th>PaymentScreenSuccessful</th>\n",
       "      <td>48.289738</td>\n",
       "      <td>46.046881</td>\n",
       "      <td>46.574803</td>\n",
       "    </tr>\n",
       "    <tr>\n",
       "      <th>Tutorial</th>\n",
       "      <td>11.187123</td>\n",
       "      <td>11.323004</td>\n",
       "      <td>11.102362</td>\n",
       "    </tr>\n",
       "  </tbody>\n",
       "</table>\n",
       "</div>"
      ],
      "text/plain": [
       "exp_id                         246        247        248\n",
       "event_name                                              \n",
       "MainScreenAppear         98.672032  98.490266  98.346457\n",
       "OffersScreenAppear       62.132797  60.627731  60.472441\n",
       "CartScreenAppear         50.985915  49.225268  48.661417\n",
       "PaymentScreenSuccessful  48.289738  46.046881  46.574803\n",
       "Tutorial                 11.187123  11.323004  11.102362"
      ]
     },
     "execution_count": 109,
     "metadata": {},
     "output_type": "execute_result"
    }
   ],
   "source": [
    "persentase_per_peristiwa = (user_per_peristiwa / user_per_group) * 100\n",
    "persentase_per_peristiwa"
   ]
  },
  {
   "cell_type": "code",
   "execution_count": 110,
   "metadata": {},
   "outputs": [],
   "source": [
    "def check_hypothesis(successes1, successes2, trials1, trials2, alpha=0.1):\n",
    "    p1 = successes1/trials1\n",
    "    p2 = successes2/trials2\n",
    "    p_combined = (successes1+successes2)/(trials1 + trials2)\n",
    "    difference = p1-p2\n",
    "    z_value = difference/math.sqrt(p_combined * (1-p_combined) * (1/trials1 + 1/trials2))\n",
    "    distr = stats.norm(0, 1)\n",
    "    \n",
    "    p_value = (1 - distr.cdf(abs(z_value))) * 2\n",
    "    \n",
    "    print('p_value:', p_value)\n",
    "    \n",
    "    if (p_value < alpha):\n",
    "        print('menolak H0: terdapat perbedaan yang signifikan dari kelompok')\n",
    "    else:\n",
    "        print('gagal menolak H0: tidak ada perbedaan signifikan antara kelompok')"
   ]
  },
  {
   "cell_type": "code",
   "execution_count": 111,
   "metadata": {
    "scrolled": false
   },
   "outputs": [
    {
     "name": "stdout",
     "output_type": "stream",
     "text": [
      "p_value: 0.5868776836512959\n",
      "gagal menolak H0: tidak ada perbedaan signifikan antara kelompok\n"
     ]
    }
   ],
   "source": [
    "check_hypothesis(user_per_peristiwa.loc['MainScreenAppear', 246],\n",
    "                user_per_peristiwa.loc['MainScreenAppear', 247],\n",
    "                user_per_group.loc[246],\n",
    "                user_per_group.loc[247])"
   ]
  },
  {
   "cell_type": "code",
   "execution_count": 112,
   "metadata": {},
   "outputs": [],
   "source": [
    "def check_event_hypothesis(user_per_peristiwa, user_per_group,\n",
    "                           event,\n",
    "                           exp1, exp2\n",
    "                          ):\n",
    "    frac1 = user_per_peristiwa.loc[event, exp1] / user_per_group.loc[exp1]\n",
    "    frac2 = user_per_peristiwa.loc[event, exp2] / user_per_group.loc[exp2]\n",
    "    print(f'event {event} group {exp1}')\n",
    "    print(f'event {event} group {exp2}')\n",
    "    check_hypothesis(user_per_peristiwa.loc[event, exp1],\n",
    "                     user_per_peristiwa.loc[event, exp2],\n",
    "                     user_per_group.loc[exp1],\n",
    "                     user_per_group.loc[exp2],alpha=0.01\n",
    "                    )"
   ]
  },
  {
   "cell_type": "code",
   "execution_count": 113,
   "metadata": {},
   "outputs": [
    {
     "name": "stdout",
     "output_type": "stream",
     "text": [
      "event MainScreenAppear group 246\n",
      "event MainScreenAppear group 247\n",
      "p_value: 0.5868776836512959\n",
      "gagal menolak H0: tidak ada perbedaan signifikan antara kelompok\n",
      "--------------------------------------------------------------------\n",
      "event OffersScreenAppear group 246\n",
      "event OffersScreenAppear group 247\n",
      "p_value: 0.2743505991932964\n",
      "gagal menolak H0: tidak ada perbedaan signifikan antara kelompok\n",
      "--------------------------------------------------------------------\n",
      "event CartScreenAppear group 246\n",
      "event CartScreenAppear group 247\n",
      "p_value: 0.21306131796590932\n",
      "gagal menolak H0: tidak ada perbedaan signifikan antara kelompok\n",
      "--------------------------------------------------------------------\n",
      "event PaymentScreenSuccessful group 246\n",
      "event PaymentScreenSuccessful group 247\n",
      "p_value: 0.11210845100173072\n",
      "gagal menolak H0: tidak ada perbedaan signifikan antara kelompok\n",
      "--------------------------------------------------------------------\n",
      "event Tutorial group 246\n",
      "event Tutorial group 247\n",
      "p_value: 0.8791608435102836\n",
      "gagal menolak H0: tidak ada perbedaan signifikan antara kelompok\n",
      "--------------------------------------------------------------------\n"
     ]
    }
   ],
   "source": [
    "for event in user_per_peristiwa.index:\n",
    "    check_event_hypothesis(user_per_peristiwa, user_per_group, event, 246, 247)\n",
    "    print('--------------------------------------------------------------------')"
   ]
  },
  {
   "cell_type": "markdown",
   "metadata": {},
   "source": [
    "**Note** Based on the statistical tests, we can conclude that for all tested events (MainScreenAppear, OfferScreenAppear, CartScreenAppear, PaymentScreenSuccessful, and Tutorial), there is no significant difference between groups 246 and 247."
   ]
  },
  {
   "cell_type": "markdown",
   "metadata": {},
   "source": [
    "**4. Perform the same analysis for the group exposed to the new font version. Compare the results with each control group (246 and 247) for each event separately. Compare the results with the combined control group. What conclusions can be drawn from the experiment?**"
   ]
  },
  {
   "cell_type": "code",
   "execution_count": 114,
   "metadata": {},
   "outputs": [
    {
     "name": "stdout",
     "output_type": "stream",
     "text": [
      "event MainScreenAppear group 246\n",
      "event MainScreenAppear group 248\n",
      "p_value: 0.341286386031747\n",
      "gagal menolak H0: tidak ada perbedaan signifikan antara kelompok\n",
      "--------------------------------------------------------------------\n",
      "event OffersScreenAppear group 246\n",
      "event OffersScreenAppear group 248\n",
      "p_value: 0.22699680075034445\n",
      "gagal menolak H0: tidak ada perbedaan signifikan antara kelompok\n",
      "--------------------------------------------------------------------\n",
      "event CartScreenAppear group 246\n",
      "event CartScreenAppear group 248\n",
      "p_value: 0.09941721664866177\n",
      "gagal menolak H0: tidak ada perbedaan signifikan antara kelompok\n",
      "--------------------------------------------------------------------\n",
      "event PaymentScreenSuccessful group 246\n",
      "event PaymentScreenSuccessful group 248\n",
      "p_value: 0.22352231840506898\n",
      "gagal menolak H0: tidak ada perbedaan signifikan antara kelompok\n",
      "--------------------------------------------------------------------\n",
      "event Tutorial group 246\n",
      "event Tutorial group 248\n",
      "p_value: 0.9239467395818952\n",
      "gagal menolak H0: tidak ada perbedaan signifikan antara kelompok\n",
      "--------------------------------------------------------------------\n"
     ]
    }
   ],
   "source": [
    "#246 (A) dan 248 (B)\n",
    "for event in user_per_peristiwa.index:\n",
    "    check_event_hypothesis(user_per_peristiwa, user_per_group, event, 246, 248)\n",
    "    print('--------------------------------------------------------------------')"
   ]
  },
  {
   "cell_type": "code",
   "execution_count": 115,
   "metadata": {},
   "outputs": [
    {
     "name": "stdout",
     "output_type": "stream",
     "text": [
      "event MainScreenAppear group 247\n",
      "event MainScreenAppear group 248\n",
      "p_value: 0.681958382603927\n",
      "gagal menolak H0: tidak ada perbedaan signifikan antara kelompok\n",
      "--------------------------------------------------------------------\n",
      "event OffersScreenAppear group 247\n",
      "event OffersScreenAppear group 248\n",
      "p_value: 0.9100517394454506\n",
      "gagal menolak H0: tidak ada perbedaan signifikan antara kelompok\n",
      "--------------------------------------------------------------------\n",
      "event CartScreenAppear group 247\n",
      "event CartScreenAppear group 248\n",
      "p_value: 0.6883799508125226\n",
      "gagal menolak H0: tidak ada perbedaan signifikan antara kelompok\n",
      "--------------------------------------------------------------------\n",
      "event PaymentScreenSuccessful group 247\n",
      "event PaymentScreenSuccessful group 248\n",
      "p_value: 0.7065894728746211\n",
      "gagal menolak H0: tidak ada perbedaan signifikan antara kelompok\n",
      "--------------------------------------------------------------------\n",
      "event Tutorial group 247\n",
      "event Tutorial group 248\n",
      "p_value: 0.8036365214503651\n",
      "gagal menolak H0: tidak ada perbedaan signifikan antara kelompok\n",
      "--------------------------------------------------------------------\n"
     ]
    }
   ],
   "source": [
    "#247 (A) dan 248 (B)\n",
    "for event in user_per_peristiwa.index:\n",
    "    check_event_hypothesis(user_per_peristiwa, user_per_group, event, 247, 248)\n",
    "    print('--------------------------------------------------------------------')"
   ]
  },
  {
   "cell_type": "code",
   "execution_count": 116,
   "metadata": {},
   "outputs": [
    {
     "data": {
      "text/html": [
       "<div>\n",
       "<style scoped>\n",
       "    .dataframe tbody tr th:only-of-type {\n",
       "        vertical-align: middle;\n",
       "    }\n",
       "\n",
       "    .dataframe tbody tr th {\n",
       "        vertical-align: top;\n",
       "    }\n",
       "\n",
       "    .dataframe thead th {\n",
       "        text-align: right;\n",
       "    }\n",
       "</style>\n",
       "<table border=\"1\" class=\"dataframe\">\n",
       "  <thead>\n",
       "    <tr style=\"text-align: right;\">\n",
       "      <th>exp_id</th>\n",
       "      <th>247</th>\n",
       "      <th>248</th>\n",
       "    </tr>\n",
       "    <tr>\n",
       "      <th>event_name</th>\n",
       "      <th></th>\n",
       "      <th></th>\n",
       "    </tr>\n",
       "  </thead>\n",
       "  <tbody>\n",
       "    <tr>\n",
       "      <th>MainScreenAppear</th>\n",
       "      <td>4931</td>\n",
       "      <td>2498</td>\n",
       "    </tr>\n",
       "    <tr>\n",
       "      <th>OffersScreenAppear</th>\n",
       "      <td>3070</td>\n",
       "      <td>1536</td>\n",
       "    </tr>\n",
       "    <tr>\n",
       "      <th>CartScreenAppear</th>\n",
       "      <td>2506</td>\n",
       "      <td>1236</td>\n",
       "    </tr>\n",
       "    <tr>\n",
       "      <th>PaymentScreenSuccessful</th>\n",
       "      <td>2359</td>\n",
       "      <td>1183</td>\n",
       "    </tr>\n",
       "    <tr>\n",
       "      <th>Tutorial</th>\n",
       "      <td>563</td>\n",
       "      <td>282</td>\n",
       "    </tr>\n",
       "  </tbody>\n",
       "</table>\n",
       "</div>"
      ],
      "text/plain": [
       "exp_id                    247   248\n",
       "event_name                         \n",
       "MainScreenAppear         4931  2498\n",
       "OffersScreenAppear       3070  1536\n",
       "CartScreenAppear         2506  1236\n",
       "PaymentScreenSuccessful  2359  1183\n",
       "Tutorial                  563   282"
      ]
     },
     "execution_count": 116,
     "metadata": {},
     "output_type": "execute_result"
    }
   ],
   "source": [
    "user_peristiwa_per_group_control = user_per_peristiwa.copy()\n",
    "user_peristiwa_per_group_control.loc[:, 247] += user_peristiwa_per_group_control.loc[:, 246]\n",
    "user_peristiwa_per_group_control.drop(columns=246, inplace=True)\n",
    "user_peristiwa_per_group_control"
   ]
  },
  {
   "cell_type": "code",
   "execution_count": 117,
   "metadata": {},
   "outputs": [
    {
     "data": {
      "text/plain": [
       "exp_id\n",
       "247    5002\n",
       "248    2540\n",
       "Name: device_id_hash, dtype: int64"
      ]
     },
     "execution_count": 117,
     "metadata": {},
     "output_type": "execute_result"
    }
   ],
   "source": [
    "user_per_group_control = user_per_group.copy()\n",
    "user_per_group_control.loc[247] += user_per_group_control.loc[246]\n",
    "user_per_group_control.drop(246, inplace=True)\n",
    "user_per_group_control"
   ]
  },
  {
   "cell_type": "code",
   "execution_count": 118,
   "metadata": {},
   "outputs": [
    {
     "name": "stdout",
     "output_type": "stream",
     "text": [
      "event MainScreenAppear group 247\n",
      "event MainScreenAppear group 248\n",
      "p_value: 0.42897263461182167\n",
      "gagal menolak H0: tidak ada perbedaan signifikan antara kelompok\n",
      "--------------------------------------------------------------------\n",
      "event OffersScreenAppear group 247\n",
      "event OffersScreenAppear group 248\n",
      "p_value: 0.4471809415681398\n",
      "gagal menolak H0: tidak ada perbedaan signifikan antara kelompok\n",
      "--------------------------------------------------------------------\n",
      "event CartScreenAppear group 247\n",
      "event CartScreenAppear group 248\n",
      "p_value: 0.23764471031415635\n",
      "gagal menolak H0: tidak ada perbedaan signifikan antara kelompok\n",
      "--------------------------------------------------------------------\n",
      "event PaymentScreenSuccessful group 247\n",
      "event PaymentScreenSuccessful group 248\n",
      "p_value: 0.629668311887492\n",
      "gagal menolak H0: tidak ada perbedaan signifikan antara kelompok\n",
      "--------------------------------------------------------------------\n",
      "event Tutorial group 247\n",
      "event Tutorial group 248\n",
      "p_value: 0.8420523723939013\n",
      "gagal menolak H0: tidak ada perbedaan signifikan antara kelompok\n",
      "--------------------------------------------------------------------\n"
     ]
    }
   ],
   "source": [
    "#246+247 (A) dan 248 (B)\n",
    "for event in user_per_peristiwa.index:\n",
    "    check_event_hypothesis(user_peristiwa_per_group_control, user_per_group_control, event, 247, 248)\n",
    "    print('--------------------------------------------------------------------')"
   ]
  },
  {
   "cell_type": "markdown",
   "metadata": {},
   "source": [
    "**Note** Based on the available data and the testing methods used, there is not enough statistical evidence to indicate a significant difference between the groups."
   ]
  },
  {
   "cell_type": "markdown",
   "metadata": {},
   "source": [
    "**5. What significance level did you set for testing the statistical hypotheses? Count the number of hypothesis tests performed. With a 0.1 significance level, one out of ten results could be incorrect. What significance level should be used? If you decide to adjust it, rerun the previous steps and re-evaluate your conclusions.**"
   ]
  },
  {
   "cell_type": "markdown",
   "metadata": {},
   "source": [
    "**Alpha 0.05**"
   ]
  },
  {
   "cell_type": "code",
   "execution_count": 119,
   "metadata": {},
   "outputs": [],
   "source": [
    "def check_event_hypothesis(user_per_peristiwa, user_per_group,\n",
    "                           event,\n",
    "                           exp1, exp2\n",
    "                          ):\n",
    "    frac1 = user_per_peristiwa.loc[event, exp1] / user_per_group.loc[exp1]\n",
    "    frac2 = user_per_peristiwa.loc[event, exp2] / user_per_group.loc[exp2]\n",
    "    print(f'event {event} group {exp1}')\n",
    "    print(f'event {event} group {exp2}')\n",
    "    check_hypothesis(user_per_peristiwa.loc[event, exp1],\n",
    "                     user_per_peristiwa.loc[event, exp2],\n",
    "                     user_per_group.loc[exp1],\n",
    "                     user_per_group.loc[exp2],alpha=0.05\n",
    "                    )"
   ]
  },
  {
   "cell_type": "code",
   "execution_count": 120,
   "metadata": {},
   "outputs": [
    {
     "name": "stdout",
     "output_type": "stream",
     "text": [
      "event MainScreenAppear group 246\n",
      "event MainScreenAppear group 248\n",
      "p_value: 0.341286386031747\n",
      "gagal menolak H0: tidak ada perbedaan signifikan antara kelompok\n",
      "--------------------------------------------------------------------\n",
      "event OffersScreenAppear group 246\n",
      "event OffersScreenAppear group 248\n",
      "p_value: 0.22699680075034445\n",
      "gagal menolak H0: tidak ada perbedaan signifikan antara kelompok\n",
      "--------------------------------------------------------------------\n",
      "event CartScreenAppear group 246\n",
      "event CartScreenAppear group 248\n",
      "p_value: 0.09941721664866177\n",
      "gagal menolak H0: tidak ada perbedaan signifikan antara kelompok\n",
      "--------------------------------------------------------------------\n",
      "event PaymentScreenSuccessful group 246\n",
      "event PaymentScreenSuccessful group 248\n",
      "p_value: 0.22352231840506898\n",
      "gagal menolak H0: tidak ada perbedaan signifikan antara kelompok\n",
      "--------------------------------------------------------------------\n",
      "event Tutorial group 246\n",
      "event Tutorial group 248\n",
      "p_value: 0.9239467395818952\n",
      "gagal menolak H0: tidak ada perbedaan signifikan antara kelompok\n",
      "--------------------------------------------------------------------\n"
     ]
    }
   ],
   "source": [
    "#246 (A) dan 248 (B)\n",
    "for event in user_per_peristiwa.index:\n",
    "    check_event_hypothesis(user_per_peristiwa, user_per_group, event, 246, 248)\n",
    "    print('--------------------------------------------------------------------')"
   ]
  },
  {
   "cell_type": "code",
   "execution_count": 121,
   "metadata": {},
   "outputs": [
    {
     "name": "stdout",
     "output_type": "stream",
     "text": [
      "event MainScreenAppear group 247\n",
      "event MainScreenAppear group 248\n",
      "p_value: 0.681958382603927\n",
      "gagal menolak H0: tidak ada perbedaan signifikan antara kelompok\n",
      "--------------------------------------------------------------------\n",
      "event OffersScreenAppear group 247\n",
      "event OffersScreenAppear group 248\n",
      "p_value: 0.9100517394454506\n",
      "gagal menolak H0: tidak ada perbedaan signifikan antara kelompok\n",
      "--------------------------------------------------------------------\n",
      "event CartScreenAppear group 247\n",
      "event CartScreenAppear group 248\n",
      "p_value: 0.6883799508125226\n",
      "gagal menolak H0: tidak ada perbedaan signifikan antara kelompok\n",
      "--------------------------------------------------------------------\n",
      "event PaymentScreenSuccessful group 247\n",
      "event PaymentScreenSuccessful group 248\n",
      "p_value: 0.7065894728746211\n",
      "gagal menolak H0: tidak ada perbedaan signifikan antara kelompok\n",
      "--------------------------------------------------------------------\n",
      "event Tutorial group 247\n",
      "event Tutorial group 248\n",
      "p_value: 0.8036365214503651\n",
      "gagal menolak H0: tidak ada perbedaan signifikan antara kelompok\n",
      "--------------------------------------------------------------------\n"
     ]
    }
   ],
   "source": [
    "#247 (A) dan 248 (B)\n",
    "for event in user_per_peristiwa.index:\n",
    "    check_event_hypothesis(user_per_peristiwa, user_per_group, event, 247, 248)\n",
    "    print('--------------------------------------------------------------------')"
   ]
  },
  {
   "cell_type": "code",
   "execution_count": 122,
   "metadata": {
    "scrolled": false
   },
   "outputs": [
    {
     "name": "stdout",
     "output_type": "stream",
     "text": [
      "event MainScreenAppear group 247\n",
      "event MainScreenAppear group 248\n",
      "p_value: 0.42897263461182167\n",
      "gagal menolak H0: tidak ada perbedaan signifikan antara kelompok\n",
      "--------------------------------------------------------------------\n",
      "event OffersScreenAppear group 247\n",
      "event OffersScreenAppear group 248\n",
      "p_value: 0.4471809415681398\n",
      "gagal menolak H0: tidak ada perbedaan signifikan antara kelompok\n",
      "--------------------------------------------------------------------\n",
      "event CartScreenAppear group 247\n",
      "event CartScreenAppear group 248\n",
      "p_value: 0.23764471031415635\n",
      "gagal menolak H0: tidak ada perbedaan signifikan antara kelompok\n",
      "--------------------------------------------------------------------\n",
      "event PaymentScreenSuccessful group 247\n",
      "event PaymentScreenSuccessful group 248\n",
      "p_value: 0.629668311887492\n",
      "gagal menolak H0: tidak ada perbedaan signifikan antara kelompok\n",
      "--------------------------------------------------------------------\n",
      "event Tutorial group 247\n",
      "event Tutorial group 248\n",
      "p_value: 0.8420523723939013\n",
      "gagal menolak H0: tidak ada perbedaan signifikan antara kelompok\n",
      "--------------------------------------------------------------------\n"
     ]
    }
   ],
   "source": [
    "#246+247 (A) dan 248 (B)\n",
    "for event in user_per_peristiwa.index:\n",
    "    check_event_hypothesis(user_peristiwa_per_group_control, user_per_group_control, event, 247, 248)\n",
    "    print('--------------------------------------------------------------------')"
   ]
  },
  {
   "cell_type": "markdown",
   "metadata": {},
   "source": [
    "**Alpha 0.1**"
   ]
  },
  {
   "cell_type": "code",
   "execution_count": 123,
   "metadata": {},
   "outputs": [],
   "source": [
    "def check_event_hypothesis(user_per_peristiwa, user_per_group,\n",
    "                           event,\n",
    "                           exp1, exp2\n",
    "                          ):\n",
    "    frac1 = user_per_peristiwa.loc[event, exp1] / user_per_group.loc[exp1]\n",
    "    frac2 = user_per_peristiwa.loc[event, exp2] / user_per_group.loc[exp2]\n",
    "    print(f'event {event} group {exp1}')\n",
    "    print(f'event {event} group {exp2}')\n",
    "    check_hypothesis(user_per_peristiwa.loc[event, exp1],\n",
    "                     user_per_peristiwa.loc[event, exp2],\n",
    "                     user_per_group.loc[exp1],\n",
    "                     user_per_group.loc[exp2],alpha=0.1\n",
    "                    )"
   ]
  },
  {
   "cell_type": "code",
   "execution_count": 124,
   "metadata": {},
   "outputs": [
    {
     "name": "stdout",
     "output_type": "stream",
     "text": [
      "event MainScreenAppear group 246\n",
      "event MainScreenAppear group 248\n",
      "p_value: 0.341286386031747\n",
      "gagal menolak H0: tidak ada perbedaan signifikan antara kelompok\n",
      "--------------------------------------------------------------------\n",
      "event OffersScreenAppear group 246\n",
      "event OffersScreenAppear group 248\n",
      "p_value: 0.22699680075034445\n",
      "gagal menolak H0: tidak ada perbedaan signifikan antara kelompok\n",
      "--------------------------------------------------------------------\n",
      "event CartScreenAppear group 246\n",
      "event CartScreenAppear group 248\n",
      "p_value: 0.09941721664866177\n",
      "menolak H0: terdapat perbedaan yang signifikan dari kelompok\n",
      "--------------------------------------------------------------------\n",
      "event PaymentScreenSuccessful group 246\n",
      "event PaymentScreenSuccessful group 248\n",
      "p_value: 0.22352231840506898\n",
      "gagal menolak H0: tidak ada perbedaan signifikan antara kelompok\n",
      "--------------------------------------------------------------------\n",
      "event Tutorial group 246\n",
      "event Tutorial group 248\n",
      "p_value: 0.9239467395818952\n",
      "gagal menolak H0: tidak ada perbedaan signifikan antara kelompok\n",
      "--------------------------------------------------------------------\n"
     ]
    }
   ],
   "source": [
    "#246 (A) dan 248 (B)\n",
    "for event in user_per_peristiwa.index:\n",
    "    check_event_hypothesis(user_per_peristiwa, user_per_group, event, 246, 248)\n",
    "    print('--------------------------------------------------------------------')"
   ]
  },
  {
   "cell_type": "code",
   "execution_count": 125,
   "metadata": {},
   "outputs": [
    {
     "name": "stdout",
     "output_type": "stream",
     "text": [
      "event MainScreenAppear group 247\n",
      "event MainScreenAppear group 248\n",
      "p_value: 0.681958382603927\n",
      "gagal menolak H0: tidak ada perbedaan signifikan antara kelompok\n",
      "--------------------------------------------------------------------\n",
      "event OffersScreenAppear group 247\n",
      "event OffersScreenAppear group 248\n",
      "p_value: 0.9100517394454506\n",
      "gagal menolak H0: tidak ada perbedaan signifikan antara kelompok\n",
      "--------------------------------------------------------------------\n",
      "event CartScreenAppear group 247\n",
      "event CartScreenAppear group 248\n",
      "p_value: 0.6883799508125226\n",
      "gagal menolak H0: tidak ada perbedaan signifikan antara kelompok\n",
      "--------------------------------------------------------------------\n",
      "event PaymentScreenSuccessful group 247\n",
      "event PaymentScreenSuccessful group 248\n",
      "p_value: 0.7065894728746211\n",
      "gagal menolak H0: tidak ada perbedaan signifikan antara kelompok\n",
      "--------------------------------------------------------------------\n",
      "event Tutorial group 247\n",
      "event Tutorial group 248\n",
      "p_value: 0.8036365214503651\n",
      "gagal menolak H0: tidak ada perbedaan signifikan antara kelompok\n",
      "--------------------------------------------------------------------\n"
     ]
    }
   ],
   "source": [
    "#247 (A) dan 248 (B)\n",
    "for event in user_per_peristiwa.index:\n",
    "    check_event_hypothesis(user_per_peristiwa, user_per_group, event, 247, 248)\n",
    "    print('--------------------------------------------------------------------')"
   ]
  },
  {
   "cell_type": "code",
   "execution_count": 126,
   "metadata": {},
   "outputs": [
    {
     "name": "stdout",
     "output_type": "stream",
     "text": [
      "event MainScreenAppear group 247\n",
      "event MainScreenAppear group 248\n",
      "p_value: 0.42897263461182167\n",
      "gagal menolak H0: tidak ada perbedaan signifikan antara kelompok\n",
      "--------------------------------------------------------------------\n",
      "event OffersScreenAppear group 247\n",
      "event OffersScreenAppear group 248\n",
      "p_value: 0.4471809415681398\n",
      "gagal menolak H0: tidak ada perbedaan signifikan antara kelompok\n",
      "--------------------------------------------------------------------\n",
      "event CartScreenAppear group 247\n",
      "event CartScreenAppear group 248\n",
      "p_value: 0.23764471031415635\n",
      "gagal menolak H0: tidak ada perbedaan signifikan antara kelompok\n",
      "--------------------------------------------------------------------\n",
      "event PaymentScreenSuccessful group 247\n",
      "event PaymentScreenSuccessful group 248\n",
      "p_value: 0.629668311887492\n",
      "gagal menolak H0: tidak ada perbedaan signifikan antara kelompok\n",
      "--------------------------------------------------------------------\n",
      "event Tutorial group 247\n",
      "event Tutorial group 248\n",
      "p_value: 0.8420523723939013\n",
      "gagal menolak H0: tidak ada perbedaan signifikan antara kelompok\n",
      "--------------------------------------------------------------------\n"
     ]
    }
   ],
   "source": [
    "#246+247 (A) dan 248 (B)\n",
    "for event in user_per_peristiwa.index:\n",
    "    check_event_hypothesis(user_peristiwa_per_group_control, user_per_group_control, event, 247, 248)\n",
    "    print('--------------------------------------------------------------------')"
   ]
  },
  {
   "cell_type": "markdown",
   "metadata": {},
   "source": [
    "**Note** Regardless of the alpha level, the results remain the same: we fail to reject H₀, meaning there is no significant difference between group 246 and 248, group 247 and 248, or the combined control group and 248."
   ]
  },
  {
   "cell_type": "markdown",
   "metadata": {},
   "source": [
    "**General Conclusion**\n",
    "1. Data Preparation\n",
    "    * No missing data.\n",
    "    * Column names have been cleaned.\n",
    "    * Data types adjusted, and a date column was added.\n",
    "2. Data Filtering\n",
    "The dataset covers the period 25-07-2019 to 07-08-2019, but not all dates are complete.\n",
    "Data is fully available from 31-07-2019 to 07-08-2019, so only this period is used for analysis.\n",
    "3. Experiment Groups\n",
    "The filtered dataset consists of three experiment groups:\n",
    "246, 247, and 248.\n",
    "4. Event Frequency\n",
    "    * There are 5 distinct events in the dataset.\n",
    "    * The most frequent event: MainScreenAppear.\n",
    "    * The least frequent event: Tutorial.\n",
    "5. Event Distribution\n",
    "98% of users interact with MainScreenAppear, suggesting it's the first or most common action.\n",
    "6. Event Order & User Behavior\n",
    "    * The sequence of events varies among users.\n",
    "    * Some move sequentially from MainScreenAppear.\n",
    "    * Some skip to later stages (e.g., PaymentScreenSuccessful).\n",
    "    * Others drop off early.\n",
    "7. Drop-off Points\n",
    "    * 40% of users drop off at OfferScreenAppear.\n",
    "    * Very few users access the Tutorial page.\n",
    "8. Group Size Comparison\n",
    "The number of users in each group is balanced, with no significant differences.\n",
    "9. A/A Test Results\n",
    "    * Significant differences were found between groups 246 and 247 (p-value very small in t-test and Mann-Whitney test).\n",
    "    * This indicates that the groups may not be randomly split or that some external factor is affecting them.\n",
    "10. A/B Test Results\n",
    "    * No significant differences were found between:\n",
    "    * Groups 246 vs. 248.\n",
    "    * Groups 247 vs. 248.\n",
    "    * Combined control group vs. 248.\n",
    "    * This suggests that the new font change did not affect user behavior.\n",
    "11. Final Conclusion\n",
    "    * Regardless of alpha level, the statistical results remain unchanged.\n",
    "    * No significant impact of the new font on user behavior.\n",
    "    * The experiment groups should be re-evaluated to ensure proper randomization in future tests.\n",
    "\n",
    "**Insight**\n",
    "* The event \"MainScreenAppear\" dominates the data, appearing 98% of the time. This likely means that most users start with this action or it is a common step.\n",
    "* There is no fixed sequence of events followed by all users. Some users go through the entire process, while others stop at certain stages. This shows that user behavior varies."
   ]
  }
 ],
 "metadata": {
  "kernelspec": {
   "display_name": "Python 3 (ipykernel)",
   "language": "python",
   "name": "python3"
  },
  "language_info": {
   "codemirror_mode": {
    "name": "ipython",
    "version": 3
   },
   "file_extension": ".py",
   "mimetype": "text/x-python",
   "name": "python",
   "nbconvert_exporter": "python",
   "pygments_lexer": "ipython3",
   "version": "3.11.4"
  },
  "toc": {
   "base_numbering": 1,
   "nav_menu": {},
   "number_sections": true,
   "sideBar": true,
   "skip_h1_title": true,
   "title_cell": "Table of Contents",
   "title_sidebar": "Contents",
   "toc_cell": false,
   "toc_position": {},
   "toc_section_display": true,
   "toc_window_display": false
  }
 },
 "nbformat": 4,
 "nbformat_minor": 2
}
